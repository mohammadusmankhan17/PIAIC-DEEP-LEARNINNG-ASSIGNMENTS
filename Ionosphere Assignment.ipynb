{
 "cells": [
  {
   "cell_type": "code",
   "execution_count": 1,
   "metadata": {},
   "outputs": [],
   "source": [
    "import numpy as np\n",
    "import pandas as pd\n",
    "import matplotlib.pyplot as plt\n",
    "import seaborn as sns"
   ]
  },
  {
   "cell_type": "code",
   "execution_count": 2,
   "metadata": {},
   "outputs": [],
   "source": [
    "data=pd.read_csv('ionosphere_data.csv')"
   ]
  },
  {
   "cell_type": "code",
   "execution_count": 3,
   "metadata": {},
   "outputs": [
    {
     "data": {
      "text/html": [
       "<div>\n",
       "<style scoped>\n",
       "    .dataframe tbody tr th:only-of-type {\n",
       "        vertical-align: middle;\n",
       "    }\n",
       "\n",
       "    .dataframe tbody tr th {\n",
       "        vertical-align: top;\n",
       "    }\n",
       "\n",
       "    .dataframe thead th {\n",
       "        text-align: right;\n",
       "    }\n",
       "</style>\n",
       "<table border=\"1\" class=\"dataframe\">\n",
       "  <thead>\n",
       "    <tr style=\"text-align: right;\">\n",
       "      <th></th>\n",
       "      <th>feature1</th>\n",
       "      <th>feature2</th>\n",
       "      <th>feature3</th>\n",
       "      <th>feature4</th>\n",
       "      <th>feature5</th>\n",
       "      <th>feature6</th>\n",
       "      <th>feature7</th>\n",
       "      <th>feature8</th>\n",
       "      <th>feature9</th>\n",
       "      <th>feature10</th>\n",
       "      <th>...</th>\n",
       "      <th>feature26</th>\n",
       "      <th>feature27</th>\n",
       "      <th>feature28</th>\n",
       "      <th>feature29</th>\n",
       "      <th>feature30</th>\n",
       "      <th>feature31</th>\n",
       "      <th>feature32</th>\n",
       "      <th>feature33</th>\n",
       "      <th>feature34</th>\n",
       "      <th>label</th>\n",
       "    </tr>\n",
       "  </thead>\n",
       "  <tbody>\n",
       "    <tr>\n",
       "      <th>0</th>\n",
       "      <td>1</td>\n",
       "      <td>0</td>\n",
       "      <td>0.99539</td>\n",
       "      <td>-0.05889</td>\n",
       "      <td>0.85243</td>\n",
       "      <td>0.02306</td>\n",
       "      <td>0.83398</td>\n",
       "      <td>-0.37708</td>\n",
       "      <td>1.00000</td>\n",
       "      <td>0.03760</td>\n",
       "      <td>...</td>\n",
       "      <td>-0.51171</td>\n",
       "      <td>0.41078</td>\n",
       "      <td>-0.46168</td>\n",
       "      <td>0.21266</td>\n",
       "      <td>-0.34090</td>\n",
       "      <td>0.42267</td>\n",
       "      <td>-0.54487</td>\n",
       "      <td>0.18641</td>\n",
       "      <td>-0.45300</td>\n",
       "      <td>g</td>\n",
       "    </tr>\n",
       "    <tr>\n",
       "      <th>1</th>\n",
       "      <td>1</td>\n",
       "      <td>0</td>\n",
       "      <td>1.00000</td>\n",
       "      <td>-0.18829</td>\n",
       "      <td>0.93035</td>\n",
       "      <td>-0.36156</td>\n",
       "      <td>-0.10868</td>\n",
       "      <td>-0.93597</td>\n",
       "      <td>1.00000</td>\n",
       "      <td>-0.04549</td>\n",
       "      <td>...</td>\n",
       "      <td>-0.26569</td>\n",
       "      <td>-0.20468</td>\n",
       "      <td>-0.18401</td>\n",
       "      <td>-0.19040</td>\n",
       "      <td>-0.11593</td>\n",
       "      <td>-0.16626</td>\n",
       "      <td>-0.06288</td>\n",
       "      <td>-0.13738</td>\n",
       "      <td>-0.02447</td>\n",
       "      <td>b</td>\n",
       "    </tr>\n",
       "    <tr>\n",
       "      <th>2</th>\n",
       "      <td>1</td>\n",
       "      <td>0</td>\n",
       "      <td>1.00000</td>\n",
       "      <td>-0.03365</td>\n",
       "      <td>1.00000</td>\n",
       "      <td>0.00485</td>\n",
       "      <td>1.00000</td>\n",
       "      <td>-0.12062</td>\n",
       "      <td>0.88965</td>\n",
       "      <td>0.01198</td>\n",
       "      <td>...</td>\n",
       "      <td>-0.40220</td>\n",
       "      <td>0.58984</td>\n",
       "      <td>-0.22145</td>\n",
       "      <td>0.43100</td>\n",
       "      <td>-0.17365</td>\n",
       "      <td>0.60436</td>\n",
       "      <td>-0.24180</td>\n",
       "      <td>0.56045</td>\n",
       "      <td>-0.38238</td>\n",
       "      <td>g</td>\n",
       "    </tr>\n",
       "    <tr>\n",
       "      <th>3</th>\n",
       "      <td>1</td>\n",
       "      <td>0</td>\n",
       "      <td>1.00000</td>\n",
       "      <td>-0.45161</td>\n",
       "      <td>1.00000</td>\n",
       "      <td>1.00000</td>\n",
       "      <td>0.71216</td>\n",
       "      <td>-1.00000</td>\n",
       "      <td>0.00000</td>\n",
       "      <td>0.00000</td>\n",
       "      <td>...</td>\n",
       "      <td>0.90695</td>\n",
       "      <td>0.51613</td>\n",
       "      <td>1.00000</td>\n",
       "      <td>1.00000</td>\n",
       "      <td>-0.20099</td>\n",
       "      <td>0.25682</td>\n",
       "      <td>1.00000</td>\n",
       "      <td>-0.32382</td>\n",
       "      <td>1.00000</td>\n",
       "      <td>b</td>\n",
       "    </tr>\n",
       "    <tr>\n",
       "      <th>4</th>\n",
       "      <td>1</td>\n",
       "      <td>0</td>\n",
       "      <td>1.00000</td>\n",
       "      <td>-0.02401</td>\n",
       "      <td>0.94140</td>\n",
       "      <td>0.06531</td>\n",
       "      <td>0.92106</td>\n",
       "      <td>-0.23255</td>\n",
       "      <td>0.77152</td>\n",
       "      <td>-0.16399</td>\n",
       "      <td>...</td>\n",
       "      <td>-0.65158</td>\n",
       "      <td>0.13290</td>\n",
       "      <td>-0.53206</td>\n",
       "      <td>0.02431</td>\n",
       "      <td>-0.62197</td>\n",
       "      <td>-0.05707</td>\n",
       "      <td>-0.59573</td>\n",
       "      <td>-0.04608</td>\n",
       "      <td>-0.65697</td>\n",
       "      <td>g</td>\n",
       "    </tr>\n",
       "  </tbody>\n",
       "</table>\n",
       "<p>5 rows × 35 columns</p>\n",
       "</div>"
      ],
      "text/plain": [
       "   feature1  feature2  feature3  feature4  feature5  feature6  feature7  \\\n",
       "0         1         0   0.99539  -0.05889   0.85243   0.02306   0.83398   \n",
       "1         1         0   1.00000  -0.18829   0.93035  -0.36156  -0.10868   \n",
       "2         1         0   1.00000  -0.03365   1.00000   0.00485   1.00000   \n",
       "3         1         0   1.00000  -0.45161   1.00000   1.00000   0.71216   \n",
       "4         1         0   1.00000  -0.02401   0.94140   0.06531   0.92106   \n",
       "\n",
       "   feature8  feature9  feature10  ...  feature26  feature27  feature28  \\\n",
       "0  -0.37708   1.00000    0.03760  ...   -0.51171    0.41078   -0.46168   \n",
       "1  -0.93597   1.00000   -0.04549  ...   -0.26569   -0.20468   -0.18401   \n",
       "2  -0.12062   0.88965    0.01198  ...   -0.40220    0.58984   -0.22145   \n",
       "3  -1.00000   0.00000    0.00000  ...    0.90695    0.51613    1.00000   \n",
       "4  -0.23255   0.77152   -0.16399  ...   -0.65158    0.13290   -0.53206   \n",
       "\n",
       "   feature29  feature30  feature31  feature32  feature33  feature34  label  \n",
       "0    0.21266   -0.34090    0.42267   -0.54487    0.18641   -0.45300      g  \n",
       "1   -0.19040   -0.11593   -0.16626   -0.06288   -0.13738   -0.02447      b  \n",
       "2    0.43100   -0.17365    0.60436   -0.24180    0.56045   -0.38238      g  \n",
       "3    1.00000   -0.20099    0.25682    1.00000   -0.32382    1.00000      b  \n",
       "4    0.02431   -0.62197   -0.05707   -0.59573   -0.04608   -0.65697      g  \n",
       "\n",
       "[5 rows x 35 columns]"
      ]
     },
     "execution_count": 3,
     "metadata": {},
     "output_type": "execute_result"
    }
   ],
   "source": [
    "data.head()"
   ]
  },
  {
   "cell_type": "code",
   "execution_count": 4,
   "metadata": {},
   "outputs": [
    {
     "data": {
      "text/plain": [
       "Index(['feature1', 'feature2', 'feature3', 'feature4', 'feature5', 'feature6',\n",
       "       'feature7', 'feature8', 'feature9', 'feature10', 'feature11',\n",
       "       'feature12', 'feature13', 'feature14', 'feature15', 'feature16',\n",
       "       'feature17', 'feature18', 'feature19', 'feature20', 'feature21',\n",
       "       'feature22', 'feature23', 'feature24', 'feature25', 'feature26',\n",
       "       'feature27', 'feature28', 'feature29', 'feature30', 'feature31',\n",
       "       'feature32', 'feature33', 'feature34', 'label'],\n",
       "      dtype='object')"
      ]
     },
     "execution_count": 4,
     "metadata": {},
     "output_type": "execute_result"
    }
   ],
   "source": [
    "data.columns"
   ]
  },
  {
   "cell_type": "code",
   "execution_count": 5,
   "metadata": {},
   "outputs": [],
   "source": [
    "from sklearn.preprocessing import LabelEncoder\n",
    "labelencoder = LabelEncoder()\n",
    "data['label'] = labelencoder.fit_transform(data['label'])"
   ]
  },
  {
   "cell_type": "code",
   "execution_count": 6,
   "metadata": {},
   "outputs": [
    {
     "data": {
      "text/html": [
       "<div>\n",
       "<style scoped>\n",
       "    .dataframe tbody tr th:only-of-type {\n",
       "        vertical-align: middle;\n",
       "    }\n",
       "\n",
       "    .dataframe tbody tr th {\n",
       "        vertical-align: top;\n",
       "    }\n",
       "\n",
       "    .dataframe thead th {\n",
       "        text-align: right;\n",
       "    }\n",
       "</style>\n",
       "<table border=\"1\" class=\"dataframe\">\n",
       "  <thead>\n",
       "    <tr style=\"text-align: right;\">\n",
       "      <th></th>\n",
       "      <th>feature1</th>\n",
       "      <th>feature2</th>\n",
       "      <th>feature3</th>\n",
       "      <th>feature4</th>\n",
       "      <th>feature5</th>\n",
       "      <th>feature6</th>\n",
       "      <th>feature7</th>\n",
       "      <th>feature8</th>\n",
       "      <th>feature9</th>\n",
       "      <th>feature10</th>\n",
       "      <th>...</th>\n",
       "      <th>feature26</th>\n",
       "      <th>feature27</th>\n",
       "      <th>feature28</th>\n",
       "      <th>feature29</th>\n",
       "      <th>feature30</th>\n",
       "      <th>feature31</th>\n",
       "      <th>feature32</th>\n",
       "      <th>feature33</th>\n",
       "      <th>feature34</th>\n",
       "      <th>label</th>\n",
       "    </tr>\n",
       "  </thead>\n",
       "  <tbody>\n",
       "    <tr>\n",
       "      <th>0</th>\n",
       "      <td>1</td>\n",
       "      <td>0</td>\n",
       "      <td>0.99539</td>\n",
       "      <td>-0.05889</td>\n",
       "      <td>0.85243</td>\n",
       "      <td>0.02306</td>\n",
       "      <td>0.83398</td>\n",
       "      <td>-0.37708</td>\n",
       "      <td>1.00000</td>\n",
       "      <td>0.03760</td>\n",
       "      <td>...</td>\n",
       "      <td>-0.51171</td>\n",
       "      <td>0.41078</td>\n",
       "      <td>-0.46168</td>\n",
       "      <td>0.21266</td>\n",
       "      <td>-0.34090</td>\n",
       "      <td>0.42267</td>\n",
       "      <td>-0.54487</td>\n",
       "      <td>0.18641</td>\n",
       "      <td>-0.45300</td>\n",
       "      <td>1</td>\n",
       "    </tr>\n",
       "    <tr>\n",
       "      <th>1</th>\n",
       "      <td>1</td>\n",
       "      <td>0</td>\n",
       "      <td>1.00000</td>\n",
       "      <td>-0.18829</td>\n",
       "      <td>0.93035</td>\n",
       "      <td>-0.36156</td>\n",
       "      <td>-0.10868</td>\n",
       "      <td>-0.93597</td>\n",
       "      <td>1.00000</td>\n",
       "      <td>-0.04549</td>\n",
       "      <td>...</td>\n",
       "      <td>-0.26569</td>\n",
       "      <td>-0.20468</td>\n",
       "      <td>-0.18401</td>\n",
       "      <td>-0.19040</td>\n",
       "      <td>-0.11593</td>\n",
       "      <td>-0.16626</td>\n",
       "      <td>-0.06288</td>\n",
       "      <td>-0.13738</td>\n",
       "      <td>-0.02447</td>\n",
       "      <td>0</td>\n",
       "    </tr>\n",
       "    <tr>\n",
       "      <th>2</th>\n",
       "      <td>1</td>\n",
       "      <td>0</td>\n",
       "      <td>1.00000</td>\n",
       "      <td>-0.03365</td>\n",
       "      <td>1.00000</td>\n",
       "      <td>0.00485</td>\n",
       "      <td>1.00000</td>\n",
       "      <td>-0.12062</td>\n",
       "      <td>0.88965</td>\n",
       "      <td>0.01198</td>\n",
       "      <td>...</td>\n",
       "      <td>-0.40220</td>\n",
       "      <td>0.58984</td>\n",
       "      <td>-0.22145</td>\n",
       "      <td>0.43100</td>\n",
       "      <td>-0.17365</td>\n",
       "      <td>0.60436</td>\n",
       "      <td>-0.24180</td>\n",
       "      <td>0.56045</td>\n",
       "      <td>-0.38238</td>\n",
       "      <td>1</td>\n",
       "    </tr>\n",
       "    <tr>\n",
       "      <th>3</th>\n",
       "      <td>1</td>\n",
       "      <td>0</td>\n",
       "      <td>1.00000</td>\n",
       "      <td>-0.45161</td>\n",
       "      <td>1.00000</td>\n",
       "      <td>1.00000</td>\n",
       "      <td>0.71216</td>\n",
       "      <td>-1.00000</td>\n",
       "      <td>0.00000</td>\n",
       "      <td>0.00000</td>\n",
       "      <td>...</td>\n",
       "      <td>0.90695</td>\n",
       "      <td>0.51613</td>\n",
       "      <td>1.00000</td>\n",
       "      <td>1.00000</td>\n",
       "      <td>-0.20099</td>\n",
       "      <td>0.25682</td>\n",
       "      <td>1.00000</td>\n",
       "      <td>-0.32382</td>\n",
       "      <td>1.00000</td>\n",
       "      <td>0</td>\n",
       "    </tr>\n",
       "    <tr>\n",
       "      <th>4</th>\n",
       "      <td>1</td>\n",
       "      <td>0</td>\n",
       "      <td>1.00000</td>\n",
       "      <td>-0.02401</td>\n",
       "      <td>0.94140</td>\n",
       "      <td>0.06531</td>\n",
       "      <td>0.92106</td>\n",
       "      <td>-0.23255</td>\n",
       "      <td>0.77152</td>\n",
       "      <td>-0.16399</td>\n",
       "      <td>...</td>\n",
       "      <td>-0.65158</td>\n",
       "      <td>0.13290</td>\n",
       "      <td>-0.53206</td>\n",
       "      <td>0.02431</td>\n",
       "      <td>-0.62197</td>\n",
       "      <td>-0.05707</td>\n",
       "      <td>-0.59573</td>\n",
       "      <td>-0.04608</td>\n",
       "      <td>-0.65697</td>\n",
       "      <td>1</td>\n",
       "    </tr>\n",
       "    <tr>\n",
       "      <th>5</th>\n",
       "      <td>1</td>\n",
       "      <td>0</td>\n",
       "      <td>0.02337</td>\n",
       "      <td>-0.00592</td>\n",
       "      <td>-0.09924</td>\n",
       "      <td>-0.11949</td>\n",
       "      <td>-0.00763</td>\n",
       "      <td>-0.11824</td>\n",
       "      <td>0.14706</td>\n",
       "      <td>0.06637</td>\n",
       "      <td>...</td>\n",
       "      <td>-0.01535</td>\n",
       "      <td>-0.03240</td>\n",
       "      <td>0.09223</td>\n",
       "      <td>-0.07859</td>\n",
       "      <td>0.00732</td>\n",
       "      <td>0.00000</td>\n",
       "      <td>0.00000</td>\n",
       "      <td>-0.00039</td>\n",
       "      <td>0.12011</td>\n",
       "      <td>0</td>\n",
       "    </tr>\n",
       "    <tr>\n",
       "      <th>6</th>\n",
       "      <td>1</td>\n",
       "      <td>0</td>\n",
       "      <td>0.97588</td>\n",
       "      <td>-0.10602</td>\n",
       "      <td>0.94601</td>\n",
       "      <td>-0.20800</td>\n",
       "      <td>0.92806</td>\n",
       "      <td>-0.28350</td>\n",
       "      <td>0.85996</td>\n",
       "      <td>-0.27342</td>\n",
       "      <td>...</td>\n",
       "      <td>-0.81634</td>\n",
       "      <td>0.13659</td>\n",
       "      <td>-0.82510</td>\n",
       "      <td>0.04606</td>\n",
       "      <td>-0.82395</td>\n",
       "      <td>-0.04262</td>\n",
       "      <td>-0.81318</td>\n",
       "      <td>-0.13832</td>\n",
       "      <td>-0.80975</td>\n",
       "      <td>1</td>\n",
       "    </tr>\n",
       "    <tr>\n",
       "      <th>7</th>\n",
       "      <td>0</td>\n",
       "      <td>0</td>\n",
       "      <td>0.00000</td>\n",
       "      <td>0.00000</td>\n",
       "      <td>0.00000</td>\n",
       "      <td>0.00000</td>\n",
       "      <td>1.00000</td>\n",
       "      <td>-1.00000</td>\n",
       "      <td>0.00000</td>\n",
       "      <td>0.00000</td>\n",
       "      <td>...</td>\n",
       "      <td>1.00000</td>\n",
       "      <td>1.00000</td>\n",
       "      <td>1.00000</td>\n",
       "      <td>0.00000</td>\n",
       "      <td>0.00000</td>\n",
       "      <td>1.00000</td>\n",
       "      <td>1.00000</td>\n",
       "      <td>0.00000</td>\n",
       "      <td>0.00000</td>\n",
       "      <td>0</td>\n",
       "    </tr>\n",
       "    <tr>\n",
       "      <th>8</th>\n",
       "      <td>1</td>\n",
       "      <td>0</td>\n",
       "      <td>0.96355</td>\n",
       "      <td>-0.07198</td>\n",
       "      <td>1.00000</td>\n",
       "      <td>-0.14333</td>\n",
       "      <td>1.00000</td>\n",
       "      <td>-0.21313</td>\n",
       "      <td>1.00000</td>\n",
       "      <td>-0.36174</td>\n",
       "      <td>...</td>\n",
       "      <td>-0.65440</td>\n",
       "      <td>0.57577</td>\n",
       "      <td>-0.69712</td>\n",
       "      <td>0.25435</td>\n",
       "      <td>-0.63919</td>\n",
       "      <td>0.45114</td>\n",
       "      <td>-0.72779</td>\n",
       "      <td>0.38895</td>\n",
       "      <td>-0.73420</td>\n",
       "      <td>1</td>\n",
       "    </tr>\n",
       "    <tr>\n",
       "      <th>9</th>\n",
       "      <td>1</td>\n",
       "      <td>0</td>\n",
       "      <td>-0.01864</td>\n",
       "      <td>-0.08459</td>\n",
       "      <td>0.00000</td>\n",
       "      <td>0.00000</td>\n",
       "      <td>0.00000</td>\n",
       "      <td>0.00000</td>\n",
       "      <td>0.11470</td>\n",
       "      <td>-0.26810</td>\n",
       "      <td>...</td>\n",
       "      <td>-0.01326</td>\n",
       "      <td>0.20645</td>\n",
       "      <td>-0.02294</td>\n",
       "      <td>0.00000</td>\n",
       "      <td>0.00000</td>\n",
       "      <td>0.16595</td>\n",
       "      <td>0.24086</td>\n",
       "      <td>-0.08208</td>\n",
       "      <td>0.38065</td>\n",
       "      <td>0</td>\n",
       "    </tr>\n",
       "  </tbody>\n",
       "</table>\n",
       "<p>10 rows × 35 columns</p>\n",
       "</div>"
      ],
      "text/plain": [
       "   feature1  feature2  feature3  feature4  feature5  feature6  feature7  \\\n",
       "0         1         0   0.99539  -0.05889   0.85243   0.02306   0.83398   \n",
       "1         1         0   1.00000  -0.18829   0.93035  -0.36156  -0.10868   \n",
       "2         1         0   1.00000  -0.03365   1.00000   0.00485   1.00000   \n",
       "3         1         0   1.00000  -0.45161   1.00000   1.00000   0.71216   \n",
       "4         1         0   1.00000  -0.02401   0.94140   0.06531   0.92106   \n",
       "5         1         0   0.02337  -0.00592  -0.09924  -0.11949  -0.00763   \n",
       "6         1         0   0.97588  -0.10602   0.94601  -0.20800   0.92806   \n",
       "7         0         0   0.00000   0.00000   0.00000   0.00000   1.00000   \n",
       "8         1         0   0.96355  -0.07198   1.00000  -0.14333   1.00000   \n",
       "9         1         0  -0.01864  -0.08459   0.00000   0.00000   0.00000   \n",
       "\n",
       "   feature8  feature9  feature10  ...  feature26  feature27  feature28  \\\n",
       "0  -0.37708   1.00000    0.03760  ...   -0.51171    0.41078   -0.46168   \n",
       "1  -0.93597   1.00000   -0.04549  ...   -0.26569   -0.20468   -0.18401   \n",
       "2  -0.12062   0.88965    0.01198  ...   -0.40220    0.58984   -0.22145   \n",
       "3  -1.00000   0.00000    0.00000  ...    0.90695    0.51613    1.00000   \n",
       "4  -0.23255   0.77152   -0.16399  ...   -0.65158    0.13290   -0.53206   \n",
       "5  -0.11824   0.14706    0.06637  ...   -0.01535   -0.03240    0.09223   \n",
       "6  -0.28350   0.85996   -0.27342  ...   -0.81634    0.13659   -0.82510   \n",
       "7  -1.00000   0.00000    0.00000  ...    1.00000    1.00000    1.00000   \n",
       "8  -0.21313   1.00000   -0.36174  ...   -0.65440    0.57577   -0.69712   \n",
       "9   0.00000   0.11470   -0.26810  ...   -0.01326    0.20645   -0.02294   \n",
       "\n",
       "   feature29  feature30  feature31  feature32  feature33  feature34  label  \n",
       "0    0.21266   -0.34090    0.42267   -0.54487    0.18641   -0.45300      1  \n",
       "1   -0.19040   -0.11593   -0.16626   -0.06288   -0.13738   -0.02447      0  \n",
       "2    0.43100   -0.17365    0.60436   -0.24180    0.56045   -0.38238      1  \n",
       "3    1.00000   -0.20099    0.25682    1.00000   -0.32382    1.00000      0  \n",
       "4    0.02431   -0.62197   -0.05707   -0.59573   -0.04608   -0.65697      1  \n",
       "5   -0.07859    0.00732    0.00000    0.00000   -0.00039    0.12011      0  \n",
       "6    0.04606   -0.82395   -0.04262   -0.81318   -0.13832   -0.80975      1  \n",
       "7    0.00000    0.00000    1.00000    1.00000    0.00000    0.00000      0  \n",
       "8    0.25435   -0.63919    0.45114   -0.72779    0.38895   -0.73420      1  \n",
       "9    0.00000    0.00000    0.16595    0.24086   -0.08208    0.38065      0  \n",
       "\n",
       "[10 rows x 35 columns]"
      ]
     },
     "execution_count": 6,
     "metadata": {},
     "output_type": "execute_result"
    }
   ],
   "source": [
    "data.head(10)"
   ]
  },
  {
   "cell_type": "code",
   "execution_count": 38,
   "metadata": {},
   "outputs": [],
   "source": [
    "x = data.iloc[:, :-1].values\n",
    "y = data.iloc[:, -1].values\n",
    "from sklearn.model_selection import train_test_split\n",
    "X_train,X_test,  Y_train, Y_test = train_test_split(x, y, test_size=0.3, random_state= 0 )\n",
    "X_train, X_val, Y_train, Y_val = train_test_split(X_train, Y_train, test_size=0.2, random_state=0)"
   ]
  },
  {
   "cell_type": "code",
   "execution_count": 39,
   "metadata": {},
   "outputs": [
    {
     "data": {
      "text/plain": [
       "34"
      ]
     },
     "execution_count": 39,
     "metadata": {},
     "output_type": "execute_result"
    }
   ],
   "source": [
    "x.shape[1]"
   ]
  },
  {
   "cell_type": "code",
   "execution_count": 40,
   "metadata": {},
   "outputs": [],
   "source": [
    "from tensorflow import keras\n",
    "from tensorflow.keras import layers\n",
    "from tensorflow.keras import models"
   ]
  },
  {
   "cell_type": "code",
   "execution_count": 41,
   "metadata": {},
   "outputs": [],
   "source": [
    "def build_model():\n",
    "    # Because we will need to instantiate\n",
    "    # the same model multiple times,\n",
    "    # we use a function to construct it.\n",
    "    model = models.Sequential()\n",
    "    model.add(layers.Dense(16, activation='relu', input_shape=(x.shape[1],)))\n",
    "    model.add(layers.Dense(16, activation='relu'))\n",
    "    model.add(layers.Dense(1, activation='sigmoid'))\n",
    "    model.compile(optimizer='rmsprop', loss='binary_crossentropy', metrics=['accuracy'])\n",
    "    return model"
   ]
  },
  {
   "cell_type": "code",
   "execution_count": 42,
   "metadata": {},
   "outputs": [],
   "source": [
    "model = build_model()"
   ]
  },
  {
   "cell_type": "code",
   "execution_count": 43,
   "metadata": {},
   "outputs": [
    {
     "name": "stdout",
     "output_type": "stream",
     "text": [
      "Model: \"sequential\"\n",
      "_________________________________________________________________\n",
      "Layer (type)                 Output Shape              Param #   \n",
      "=================================================================\n",
      "dense (Dense)                (None, 16)                560       \n",
      "_________________________________________________________________\n",
      "dense_1 (Dense)              (None, 16)                272       \n",
      "_________________________________________________________________\n",
      "dense_2 (Dense)              (None, 1)                 17        \n",
      "=================================================================\n",
      "Total params: 849\n",
      "Trainable params: 849\n",
      "Non-trainable params: 0\n",
      "_________________________________________________________________\n"
     ]
    }
   ],
   "source": [
    "model.summary()"
   ]
  },
  {
   "cell_type": "code",
   "execution_count": 44,
   "metadata": {},
   "outputs": [
    {
     "name": "stdout",
     "output_type": "stream",
     "text": [
      "Train on 196 samples, validate on 49 samples\n",
      "Epoch 1/20\n",
      "196/196 [==============================] - 1s 6ms/sample - loss: 0.6897 - accuracy: 0.5918 - val_loss: 0.6279 - val_accuracy: 0.6327\n",
      "Epoch 2/20\n",
      "196/196 [==============================] - 0s 97us/sample - loss: 0.6628 - accuracy: 0.6173 - val_loss: 0.6051 - val_accuracy: 0.6939\n",
      "Epoch 3/20\n",
      "196/196 [==============================] - 0s 107us/sample - loss: 0.6467 - accuracy: 0.6327 - val_loss: 0.5881 - val_accuracy: 0.7143\n",
      "Epoch 4/20\n",
      "196/196 [==============================] - 0s 82us/sample - loss: 0.6348 - accuracy: 0.6531 - val_loss: 0.5748 - val_accuracy: 0.7551\n",
      "Epoch 5/20\n",
      "196/196 [==============================] - 0s 102us/sample - loss: 0.6255 - accuracy: 0.6582 - val_loss: 0.5636 - val_accuracy: 0.7551\n",
      "Epoch 6/20\n",
      "196/196 [==============================] - 0s 87us/sample - loss: 0.6177 - accuracy: 0.6633 - val_loss: 0.5541 - val_accuracy: 0.7551\n",
      "Epoch 7/20\n",
      "196/196 [==============================] - 0s 71us/sample - loss: 0.6107 - accuracy: 0.6633 - val_loss: 0.5457 - val_accuracy: 0.7551\n",
      "Epoch 8/20\n",
      "196/196 [==============================] - 0s 97us/sample - loss: 0.6045 - accuracy: 0.6633 - val_loss: 0.5383 - val_accuracy: 0.7551\n",
      "Epoch 9/20\n",
      "196/196 [==============================] - 0s 87us/sample - loss: 0.5987 - accuracy: 0.6633 - val_loss: 0.5314 - val_accuracy: 0.7551\n",
      "Epoch 10/20\n",
      "196/196 [==============================] - 0s 61us/sample - loss: 0.5934 - accuracy: 0.6684 - val_loss: 0.5251 - val_accuracy: 0.7551\n",
      "Epoch 11/20\n",
      "196/196 [==============================] - 0s 112us/sample - loss: 0.5885 - accuracy: 0.6735 - val_loss: 0.5191 - val_accuracy: 0.7551\n",
      "Epoch 12/20\n",
      "196/196 [==============================] - 0s 97us/sample - loss: 0.5838 - accuracy: 0.6735 - val_loss: 0.5133 - val_accuracy: 0.7551\n",
      "Epoch 13/20\n",
      "196/196 [==============================] - 0s 82us/sample - loss: 0.5793 - accuracy: 0.6735 - val_loss: 0.5080 - val_accuracy: 0.7755\n",
      "Epoch 14/20\n",
      "196/196 [==============================] - 0s 107us/sample - loss: 0.5750 - accuracy: 0.6735 - val_loss: 0.5029 - val_accuracy: 0.7755\n",
      "Epoch 15/20\n",
      "196/196 [==============================] - 0s 72us/sample - loss: 0.5708 - accuracy: 0.6735 - val_loss: 0.4981 - val_accuracy: 0.7755\n",
      "Epoch 16/20\n",
      "196/196 [==============================] - 0s 97us/sample - loss: 0.5668 - accuracy: 0.6735 - val_loss: 0.4936 - val_accuracy: 0.7755\n",
      "Epoch 17/20\n",
      "196/196 [==============================] - 0s 82us/sample - loss: 0.5629 - accuracy: 0.6786 - val_loss: 0.4895 - val_accuracy: 0.7755\n",
      "Epoch 18/20\n",
      "196/196 [==============================] - 0s 92us/sample - loss: 0.5590 - accuracy: 0.6786 - val_loss: 0.4851 - val_accuracy: 0.7755\n",
      "Epoch 19/20\n",
      "196/196 [==============================] - 0s 92us/sample - loss: 0.5551 - accuracy: 0.6786 - val_loss: 0.4810 - val_accuracy: 0.7755\n",
      "Epoch 20/20\n",
      "196/196 [==============================] - 0s 77us/sample - loss: 0.5512 - accuracy: 0.6837 - val_loss: 0.4770 - val_accuracy: 0.7755\n"
     ]
    }
   ],
   "source": [
    "history = model.fit(X_train,\n",
    "                    Y_train,\n",
    "                    epochs=20,\n",
    "                    batch_size=512, validation_data=(X_val, Y_val))\n"
   ]
  },
  {
   "cell_type": "code",
   "execution_count": 45,
   "metadata": {},
   "outputs": [
    {
     "data": {
      "text/plain": [
       "dict_keys(['loss', 'accuracy', 'val_loss', 'val_accuracy'])"
      ]
     },
     "execution_count": 45,
     "metadata": {},
     "output_type": "execute_result"
    }
   ],
   "source": [
    "history_dict = history.history\n",
    "history_dict.keys()"
   ]
  },
  {
   "cell_type": "code",
   "execution_count": 46,
   "metadata": {},
   "outputs": [
    {
     "data": {
      "image/png": "[encoded data removed]",
      "text/plain": [
       "<Figure size 432x288 with 1 Axes>"
      ]
     },
     "metadata": {
      "needs_background": "light"
     },
     "output_type": "display_data"
    }
   ],
   "source": [
    "acc = history.history['accuracy']\n",
    "# val_acc = history.history['val_accuracy']\n",
    "loss = history.history['loss']\n",
    "val_loss = history.history['val_loss']\n",
    "\n",
    "epochs = range(1, len(acc) + 1)\n",
    "\n",
    "# \"bo\" is for \"blue dot\"\n",
    "plt.plot(epochs, loss, 'bo', label='Training loss')\n",
    "# b is for \"solid blue line\"\n",
    "plt.plot(epochs, val_loss, 'b', label='Validation loss')\n",
    "plt.title('Training and validation loss')\n",
    "plt.xlabel('Epochs')\n",
    "plt.ylabel('Loss')\n",
    "plt.legend()\n",
    "\n",
    "plt.show()"
   ]
  },
  {
   "cell_type": "code",
   "execution_count": 49,
   "metadata": {},
   "outputs": [
    {
     "data": {
      "image/png": "[encoded data removed]",
      "text/plain": [
       "<Figure size 432x288 with 1 Axes>"
      ]
     },
     "metadata": {
      "needs_background": "light"
     },
     "output_type": "display_data"
    }
   ],
   "source": [
    "plt.clf()   # clear figure\n",
    "acc_values = history_dict['accuracy']\n",
    "val_acc_values = history_dict['val_accuracy']\n",
    "\n",
    "plt.plot(epochs, acc, 'bo', label='Training acc')\n",
    "plt.plot(epochs, val_acc_values, 'b', label='Vlidation acc')\n",
    "plt.title('Training and validation accuracy')\n",
    "plt.xlabel('Epochs')\n",
    "plt.ylabel('Loss')\n",
    "plt.legend()\n",
    "\n",
    "plt.show()"
   ]
  },
  {
   "cell_type": "code",
   "execution_count": 50,
   "metadata": {},
   "outputs": [
    {
     "name": "stdout",
     "output_type": "stream",
     "text": [
      "106/106 [==============================] - 0s 104us/sample - loss: 0.5468 - accuracy: 0.6981\n"
     ]
    },
    {
     "data": {
      "text/plain": [
       "[0.5467529454321232, 0.6981132]"
      ]
     },
     "execution_count": 50,
     "metadata": {},
     "output_type": "execute_result"
    }
   ],
   "source": [
    "model.evaluate(X_test, Y_test)"
   ]
  },
  {
   "cell_type": "code",
   "execution_count": 51,
   "metadata": {},
   "outputs": [],
   "source": [
    "class PrintDot(keras.callbacks.Callback):\n",
    "    def on_epoch_end(self, epoch, logs):\n",
    "        if epoch % 100 == 0: print('')\n",
    "        print('.', end='')"
   ]
  },
  {
   "cell_type": "code",
   "execution_count": 52,
   "metadata": {},
   "outputs": [
    {
     "name": "stdout",
     "output_type": "stream",
     "text": [
      "\n",
      "processing fold # 0\n",
      "\n",
      "....................................................................................................\n",
      "processing fold # 1\n",
      "\n",
      "....................................................................................................\n",
      "processing fold # 2\n",
      "\n",
      "....................................................................................................\n",
      "processing fold # 3\n",
      "\n",
      "...................................................................................................."
     ]
    }
   ],
   "source": [
    "k = 4\n",
    "num_val_samples = len(X_train) // k\n",
    "num_epochs = 100\n",
    "all_scores = []\n",
    "for i in range(k):\n",
    "    print('\\nprocessing fold #', i)\n",
    "    # Prepare the validation data: data from partition # k\n",
    "    val_data = X_train[i * num_val_samples: (i + 1) * num_val_samples]\n",
    "    val_targets = Y_train[i * num_val_samples: (i + 1) * num_val_samples]\n",
    "\n",
    "    # Prepare the training data: data from all other partitions\n",
    "    partial_train_data = np.concatenate(\n",
    "        [X_train[:i * num_val_samples],\n",
    "         X_train[(i + 1) * num_val_samples:]],\n",
    "        axis=0)\n",
    "    partial_train_targets = np.concatenate(\n",
    "        [Y_train[:i * num_val_samples],\n",
    "         Y_train[(i + 1) * num_val_samples:]],\n",
    "        axis=0)\n",
    "\n",
    "    # Build the Keras model (already compiled)\n",
    "    model = model\n",
    "    # Train the model (in silent mode, verbose=0)\n",
    "    model.fit(partial_train_data, partial_train_targets,\n",
    "              epochs=num_epochs, batch_size=1, verbose=0 , callbacks=[PrintDot()])\n",
    "    # Evaluate the model on the validation data\n",
    "    val_mse, val_mae = model.evaluate(val_data, val_targets, verbose=0)\n",
    "    all_scores.append(val_mae)"
   ]
  },
  {
   "cell_type": "code",
   "execution_count": 53,
   "metadata": {},
   "outputs": [
    {
     "data": {
      "text/plain": [
       "[0.85714287, 0.9591837, 0.93877554, 0.97959185]"
      ]
     },
     "execution_count": 53,
     "metadata": {},
     "output_type": "execute_result"
    }
   ],
   "source": [
    "all_scores"
   ]
  },
  {
   "cell_type": "code",
   "execution_count": 54,
   "metadata": {},
   "outputs": [
    {
     "data": {
      "text/plain": [
       "0.9336735"
      ]
     },
     "execution_count": 54,
     "metadata": {},
     "output_type": "execute_result"
    }
   ],
   "source": [
    "np.mean(all_scores)"
   ]
  },
  {
   "cell_type": "code",
   "execution_count": 55,
   "metadata": {},
   "outputs": [],
   "source": [
    "from tensorflow.keras import backend as K\n",
    "\n",
    "# Some memory clean-up\n",
    "K.clear_session()"
   ]
  },
  {
   "cell_type": "code",
   "execution_count": 56,
   "metadata": {},
   "outputs": [],
   "source": [
    "early_stop = keras.callbacks.EarlyStopping(monitor='val_loss', patience=10)"
   ]
  },
  {
   "cell_type": "code",
   "execution_count": 57,
   "metadata": {},
   "outputs": [
    {
     "name": "stdout",
     "output_type": "stream",
     "text": [
      "\n",
      "processing fold # 0\n",
      "\n",
      "...........\n",
      "processing fold # 1\n",
      "\n",
      "...........\n",
      "processing fold # 2\n",
      "\n",
      "...........\n",
      "processing fold # 3\n",
      "\n",
      "................."
     ]
    }
   ],
   "source": [
    "num_epochs = 500\n",
    "all_mae_histories = []\n",
    "for i in range(k):\n",
    "    print('\\nprocessing fold #', i)\n",
    "    # Prepare the validation data: data from partition # k\n",
    "    val_data = X_train[i * num_val_samples: (i + 1) * num_val_samples]\n",
    "    val_targets = Y_train[i * num_val_samples: (i + 1) * num_val_samples]\n",
    "\n",
    "    # Prepare the training data: data from all other partitions\n",
    "    partial_train_data = np.concatenate(\n",
    "        [X_train[:i * num_val_samples],\n",
    "         X_train[(i + 1) * num_val_samples:]],\n",
    "        axis=0)\n",
    "    partial_train_targets = np.concatenate(\n",
    "        [Y_train[:i * num_val_samples],\n",
    "         Y_train[(i + 1) * num_val_samples:]],\n",
    "        axis=0)\n",
    "\n",
    "    # Build the Keras model (already compiled)\n",
    "    model = model\n",
    "    # Train the model (in silent mode, verbose=0)\n",
    "    history = model.fit(partial_train_data, partial_train_targets,\n",
    "                        validation_data=(val_data, val_targets),\n",
    "                        epochs=num_epochs, batch_size=1, verbose=0, callbacks=[early_stop ,PrintDot()])\n",
    "    val_history = history.history['val_accuracy']\n",
    "    all_mae_histories.append(val_history)"
   ]
  },
  {
   "cell_type": "code",
   "execution_count": 25,
   "metadata": {},
   "outputs": [
    {
     "name": "stdout",
     "output_type": "stream",
     "text": [
      "11\n",
      "11\n",
      "16\n",
      "13\n"
     ]
    }
   ],
   "source": [
    "for i in range(4):\n",
    "    print(len(all_mae_histories[i]))"
   ]
  },
  {
   "cell_type": "code",
   "execution_count": 58,
   "metadata": {},
   "outputs": [],
   "source": [
    "average_mae_history = [\n",
    "    np.mean([x[i] for x in all_mae_histories]) for i in range(11)]"
   ]
  },
  {
   "cell_type": "code",
   "execution_count": 59,
   "metadata": {},
   "outputs": [
    {
     "data": {
      "image/png": "[encoded data removed]",
      "text/plain": [
       "<Figure size 432x288 with 1 Axes>"
      ]
     },
     "metadata": {
      "needs_background": "light"
     },
     "output_type": "display_data"
    }
   ],
   "source": [
    "plt.plot(range(1, len(average_mae_history) + 1), average_mae_history)\n",
    "plt.xlabel('Epochs')\n",
    "plt.ylabel('Validation MAE')\n",
    "plt.show()"
   ]
  },
  {
   "cell_type": "code",
   "execution_count": 60,
   "metadata": {},
   "outputs": [
    {
     "data": {
      "image/png": "[encoded data removed]",
      "text/plain": [
       "<Figure size 432x288 with 1 Axes>"
      ]
     },
     "metadata": {
      "needs_background": "light"
     },
     "output_type": "display_data"
    }
   ],
   "source": [
    "def smooth_curve(points, factor=0.9):\n",
    "  smoothed_points = []\n",
    "  for point in points:\n",
    "    if smoothed_points:\n",
    "      previous = smoothed_points[-1]\n",
    "      smoothed_points.append(previous * factor + point * (1 - factor))\n",
    "    else:\n",
    "      smoothed_points.append(point)\n",
    "  return smoothed_points\n",
    "\n",
    "smooth_mae_history = smooth_curve(average_mae_history[10:])\n",
    "\n",
    "plt.plot(range(1, len(smooth_mae_history) + 1), smooth_mae_history)\n",
    "plt.xlabel('Epochs')\n",
    "plt.ylabel('Validation MAE')\n",
    "plt.show()"
   ]
  },
  {
   "cell_type": "code",
   "execution_count": 61,
   "metadata": {},
   "outputs": [
    {
     "name": "stdout",
     "output_type": "stream",
     "text": [
      "Train on 196 samples\n",
      "Epoch 1/80\n",
      "196/196 [==============================] - 0s 240us/sample - loss: 8.2888e-10 - accuracy: 1.0000\n",
      "Epoch 2/80\n",
      "196/196 [==============================] - 0s 214us/sample - loss: 8.5054e-10 - accuracy: 1.0000\n",
      "Epoch 3/80\n",
      "196/196 [==============================] - 0s 214us/sample - loss: 8.6602e-10 - accuracy: 1.0000\n",
      "Epoch 4/80\n",
      "196/196 [==============================] - 0s 174us/sample - loss: 8.8502e-10 - accuracy: 1.0000\n",
      "Epoch 5/80\n",
      "196/196 [==============================] - 0s 189us/sample - loss: 8.9962e-10 - accuracy: 1.0000\n",
      "Epoch 6/80\n",
      "196/196 [==============================] - 0s 204us/sample - loss: 9.1856e-10 - accuracy: 1.0000\n",
      "Epoch 7/80\n",
      "196/196 [==============================] - 0s 204us/sample - loss: 9.3373e-10 - accuracy: 1.0000\n",
      "Epoch 8/80\n",
      "196/196 [==============================] - 0s 199us/sample - loss: 9.5870e-10 - accuracy: 1.0000\n",
      "Epoch 9/80\n",
      "196/196 [==============================] - 0s 179us/sample - loss: 9.8066e-10 - accuracy: 1.0000\n",
      "Epoch 10/80\n",
      "196/196 [==============================] - 0s 184us/sample - loss: 9.9431e-10 - accuracy: 1.0000\n",
      "Epoch 11/80\n",
      "196/196 [==============================] - 0s 199us/sample - loss: 1.0072e-09 - accuracy: 1.0000\n",
      "Epoch 12/80\n",
      "196/196 [==============================] - 0s 184us/sample - loss: 1.0244e-09 - accuracy: 1.0000\n",
      "Epoch 13/80\n",
      "196/196 [==============================] - 0s 214us/sample - loss: 1.0366e-09 - accuracy: 1.0000\n",
      "Epoch 14/80\n",
      "196/196 [==============================] - 0s 235us/sample - loss: 1.0623e-09 - accuracy: 1.0000\n",
      "Epoch 15/80\n",
      "196/196 [==============================] - 0s 255us/sample - loss: 1.0781e-09 - accuracy: 1.0000\n",
      "Epoch 16/80\n",
      "196/196 [==============================] - 0s 204us/sample - loss: 1.0958e-09 - accuracy: 1.0000\n",
      "Epoch 17/80\n",
      "196/196 [==============================] - 0s 184us/sample - loss: 1.1108e-09 - accuracy: 1.0000\n",
      "Epoch 18/80\n",
      "196/196 [==============================] - 0s 194us/sample - loss: 1.1388e-09 - accuracy: 1.0000\n",
      "Epoch 19/80\n",
      "196/196 [==============================] - 0s 199us/sample - loss: 1.1554e-09 - accuracy: 1.0000\n",
      "Epoch 20/80\n",
      "196/196 [==============================] - 0s 194us/sample - loss: 1.1754e-09 - accuracy: 1.0000\n",
      "Epoch 21/80\n",
      "196/196 [==============================] - 0s 179us/sample - loss: 1.1910e-09 - accuracy: 1.0000\n",
      "Epoch 22/80\n",
      "196/196 [==============================] - 0s 169us/sample - loss: 1.2125e-09 - accuracy: 1.0000\n",
      "Epoch 23/80\n",
      "196/196 [==============================] - 0s 204us/sample - loss: 1.2263e-09 - accuracy: 1.0000\n",
      "Epoch 24/80\n",
      "196/196 [==============================] - 0s 194us/sample - loss: 1.2461e-09 - accuracy: 1.0000\n",
      "Epoch 25/80\n",
      "196/196 [==============================] - 0s 179us/sample - loss: 1.1775e-09 - accuracy: 1.0000\n",
      "Epoch 26/80\n",
      "196/196 [==============================] - 0s 230us/sample - loss: 9.2870e-10 - accuracy: 1.0000\n",
      "Epoch 27/80\n",
      "196/196 [==============================] - 0s 199us/sample - loss: 9.3630e-10 - accuracy: 1.0000\n",
      "Epoch 28/80\n",
      "196/196 [==============================] - 0s 194us/sample - loss: 9.5397e-10 - accuracy: 1.0000\n",
      "Epoch 29/80\n",
      "196/196 [==============================] - 0s 194us/sample - loss: 9.7181e-10 - accuracy: 1.0000\n",
      "Epoch 30/80\n",
      "196/196 [==============================] - 0s 204us/sample - loss: 9.9275e-10 - accuracy: 1.0000\n",
      "Epoch 31/80\n",
      "196/196 [==============================] - 0s 204us/sample - loss: 1.0013e-09 - accuracy: 1.0000\n",
      "Epoch 32/80\n",
      "196/196 [==============================] - 0s 184us/sample - loss: 1.0266e-09 - accuracy: 1.0000\n",
      "Epoch 33/80\n",
      "196/196 [==============================] - 0s 209us/sample - loss: 1.0420e-09 - accuracy: 1.0000\n",
      "Epoch 34/80\n",
      "196/196 [==============================] - 0s 220us/sample - loss: 1.0514e-09 - accuracy: 1.0000\n",
      "Epoch 35/80\n",
      "196/196 [==============================] - 0s 235us/sample - loss: 1.0721e-09 - accuracy: 1.0000\n",
      "Epoch 36/80\n",
      "196/196 [==============================] - 0s 204us/sample - loss: 1.0859e-09 - accuracy: 1.0000\n",
      "Epoch 37/80\n",
      "196/196 [==============================] - 0s 189us/sample - loss: 1.1007e-09 - accuracy: 1.0000\n",
      "Epoch 38/80\n",
      "196/196 [==============================] - 0s 204us/sample - loss: 1.1195e-09 - accuracy: 1.0000\n",
      "Epoch 39/80\n",
      "196/196 [==============================] - 0s 199us/sample - loss: 1.1297e-09 - accuracy: 1.0000\n",
      "Epoch 40/80\n",
      "196/196 [==============================] - 0s 235us/sample - loss: 1.1547e-09 - accuracy: 1.0000\n",
      "Epoch 41/80\n",
      "196/196 [==============================] - 0s 260us/sample - loss: 1.1657e-09 - accuracy: 1.0000\n",
      "Epoch 42/80\n",
      "196/196 [==============================] - 0s 240us/sample - loss: 1.1858e-09 - accuracy: 1.0000\n",
      "Epoch 43/80\n",
      "196/196 [==============================] - 0s 194us/sample - loss: 1.2027e-09 - accuracy: 1.0000\n",
      "Epoch 44/80\n",
      "196/196 [==============================] - 0s 194us/sample - loss: 1.2161e-09 - accuracy: 1.0000\n",
      "Epoch 45/80\n",
      "196/196 [==============================] - 0s 204us/sample - loss: 1.2448e-09 - accuracy: 1.0000\n",
      "Epoch 46/80\n",
      "196/196 [==============================] - 0s 194us/sample - loss: 1.2710e-09 - accuracy: 1.0000\n",
      "Epoch 47/80\n",
      "196/196 [==============================] - 0s 194us/sample - loss: 1.2778e-09 - accuracy: 1.0000\n",
      "Epoch 48/80\n",
      "196/196 [==============================] - 0s 194us/sample - loss: 1.2928e-09 - accuracy: 1.0000\n",
      "Epoch 49/80\n",
      "196/196 [==============================] - 0s 194us/sample - loss: 1.3145e-09 - accuracy: 1.0000\n",
      "Epoch 50/80\n",
      "196/196 [==============================] - 0s 194us/sample - loss: 1.3221e-09 - accuracy: 1.0000\n",
      "Epoch 51/80\n",
      "196/196 [==============================] - 0s 184us/sample - loss: 7.2930e-10 - accuracy: 1.0000\n",
      "Epoch 52/80\n",
      "196/196 [==============================] - 0s 194us/sample - loss: 7.4520e-10 - accuracy: 1.0000\n",
      "Epoch 53/80\n",
      "196/196 [==============================] - 0s 194us/sample - loss: 7.5310e-10 - accuracy: 1.0000\n",
      "Epoch 54/80\n",
      "196/196 [==============================] - 0s 199us/sample - loss: 7.6827e-10 - accuracy: 1.0000\n",
      "Epoch 55/80\n",
      "196/196 [==============================] - 0s 174us/sample - loss: 7.7954e-10 - accuracy: 1.0000\n",
      "Epoch 56/80\n",
      "196/196 [==============================] - 0s 199us/sample - loss: 7.9269e-10 - accuracy: 1.0000\n",
      "Epoch 57/80\n",
      "196/196 [==============================] - 0s 174us/sample - loss: 8.0466e-10 - accuracy: 1.0000\n",
      "Epoch 58/80\n",
      "196/196 [==============================] - 0s 179us/sample - loss: 8.3678e-10 - accuracy: 1.0000\n",
      "Epoch 59/80\n",
      "196/196 [==============================] - 0s 204us/sample - loss: 8.4217e-10 - accuracy: 1.0000\n",
      "Epoch 60/80\n",
      "196/196 [==============================] - 0s 184us/sample - loss: 8.6021e-10 - accuracy: 1.0000\n",
      "Epoch 61/80\n",
      "196/196 [==============================] - 0s 189us/sample - loss: 8.7087e-10 - accuracy: 1.0000\n",
      "Epoch 62/80\n",
      "196/196 [==============================] - 0s 184us/sample - loss: 8.8294e-10 - accuracy: 1.0000\n",
      "Epoch 63/80\n",
      "196/196 [==============================] - 0s 184us/sample - loss: 8.9958e-10 - accuracy: 1.0000\n",
      "Epoch 64/80\n",
      "196/196 [==============================] - 0s 174us/sample - loss: 9.0807e-10 - accuracy: 1.0000\n",
      "Epoch 65/80\n",
      "196/196 [==============================] - ETA: 0s - loss: 2.1305e-10 - accuracy: 1.00 - 0s 169us/sample - loss: 9.2198e-10 - accuracy: 1.0000\n",
      "Epoch 66/80\n",
      "196/196 [==============================] - 0s 158us/sample - loss: 9.3506e-10 - accuracy: 1.0000\n",
      "Epoch 67/80\n",
      "196/196 [==============================] - 0s 169us/sample - loss: 9.4479e-10 - accuracy: 1.0000\n",
      "Epoch 68/80\n",
      "196/196 [==============================] - 0s 214us/sample - loss: 9.6284e-10 - accuracy: 1.0000\n",
      "Epoch 69/80\n",
      "196/196 [==============================] - 0s 255us/sample - loss: 9.7627e-10 - accuracy: 1.0000\n",
      "Epoch 70/80\n",
      "196/196 [==============================] - 0s 209us/sample - loss: 9.9263e-10 - accuracy: 1.0000\n",
      "Epoch 71/80\n",
      "196/196 [==============================] - 0s 184us/sample - loss: 1.0043e-09 - accuracy: 1.0000\n",
      "Epoch 72/80\n",
      "196/196 [==============================] - 0s 184us/sample - loss: 1.0126e-09 - accuracy: 1.0000\n",
      "Epoch 73/80\n",
      "196/196 [==============================] - 0s 179us/sample - loss: 1.0253e-09 - accuracy: 1.0000\n",
      "Epoch 74/80\n",
      "196/196 [==============================] - 0s 174us/sample - loss: 1.0508e-09 - accuracy: 1.0000\n",
      "Epoch 75/80\n"
     ]
    },
    {
     "name": "stdout",
     "output_type": "stream",
     "text": [
      "196/196 [==============================] - 0s 189us/sample - loss: 1.0614e-09 - accuracy: 1.0000\n",
      "Epoch 76/80\n",
      "196/196 [==============================] - 0s 189us/sample - loss: 1.0692e-09 - accuracy: 1.0000\n",
      "Epoch 77/80\n",
      "196/196 [==============================] - 0s 215us/sample - loss: 1.0839e-09 - accuracy: 1.0000\n",
      "Epoch 78/80\n",
      "196/196 [==============================] - 0s 245us/sample - loss: 1.0972e-09 - accuracy: 1.0000\n",
      "Epoch 79/80\n",
      "196/196 [==============================] - 0s 260us/sample - loss: 1.1138e-09 - accuracy: 1.0000\n",
      "Epoch 80/80\n",
      "196/196 [==============================] - 0s 245us/sample - loss: 6.9795e-10 - accuracy: 1.0000\n",
      "106/106 [==============================] - 0s 151us/sample - loss: 1.9893 - accuracy: 0.9151\n"
     ]
    }
   ],
   "source": [
    "# Get a fresh, compiled model.\n",
    "model = model\n",
    "# Train it on the entirety of the data.\n",
    "model.fit(X_train, Y_train,\n",
    "          epochs=80, batch_size=16, verbose=1)\n",
    "test_mse_score, test_mae_score = model.evaluate(X_test, Y_test)"
   ]
  },
  {
   "cell_type": "code",
   "execution_count": 62,
   "metadata": {},
   "outputs": [
    {
     "data": {
      "text/plain": [
       "0.9150943"
      ]
     },
     "execution_count": 62,
     "metadata": {},
     "output_type": "execute_result"
    }
   ],
   "source": [
    "test_mae_score"
   ]
  },
  {
   "cell_type": "code",
   "execution_count": 63,
   "metadata": {},
   "outputs": [],
   "source": [
    "y_hat=model.predict(X_test)"
   ]
  },
  {
   "cell_type": "code",
   "execution_count": 64,
   "metadata": {},
   "outputs": [],
   "source": [
    "y_hat=y_hat.round()"
   ]
  },
  {
   "cell_type": "code",
   "execution_count": 65,
   "metadata": {},
   "outputs": [
    {
     "data": {
      "text/plain": [
       "array([1, 1, 0, 0, 0, 1, 0, 1, 1, 0, 1, 1, 0, 1, 1, 0, 0, 1, 0, 0, 1, 1,\n",
       "       0, 1, 1, 1, 0, 1, 0, 0, 1, 1, 1, 1, 0, 1, 1, 0, 1, 1, 1, 0, 0, 0,\n",
       "       1, 1, 0, 0, 1, 0, 0, 1, 1, 1, 0, 0, 1, 1, 0, 0, 1, 0, 1, 1, 1, 1,\n",
       "       1, 1, 0, 0, 1, 1, 1, 0, 0, 0, 1, 0, 1, 1, 1, 0, 1, 1, 1, 0, 1, 1,\n",
       "       1, 1, 1, 1, 1, 1, 0, 1, 0, 1, 1, 1, 1, 1, 1, 1, 1, 0])"
      ]
     },
     "execution_count": 65,
     "metadata": {},
     "output_type": "execute_result"
    }
   ],
   "source": [
    "y_hat=np.array(y_hat.ravel(), dtype=np.int32)\n",
    "y_hat"
   ]
  },
  {
   "cell_type": "code",
   "execution_count": 66,
   "metadata": {},
   "outputs": [
    {
     "data": {
      "text/plain": [
       "106"
      ]
     },
     "execution_count": 66,
     "metadata": {},
     "output_type": "execute_result"
    }
   ],
   "source": [
    "bool_array=Y_test==y_hat\n",
    "len(bool_array)"
   ]
  },
  {
   "cell_type": "code",
   "execution_count": 67,
   "metadata": {},
   "outputs": [],
   "source": [
    "count = np.count_nonzero(bool_array)"
   ]
  },
  {
   "cell_type": "code",
   "execution_count": 68,
   "metadata": {},
   "outputs": [
    {
     "data": {
      "text/plain": [
       "97"
      ]
     },
     "execution_count": 68,
     "metadata": {},
     "output_type": "execute_result"
    }
   ],
   "source": [
    "count"
   ]
  },
  {
   "cell_type": "code",
   "execution_count": 76,
   "metadata": {},
   "outputs": [],
   "source": [
    "from tensorflow.keras.layers import Dropout"
   ]
  },
  {
   "cell_type": "code",
   "execution_count": 94,
   "metadata": {},
   "outputs": [],
   "source": [
    "def model_build2():\n",
    "    model = models.Sequential()\n",
    "    model.add(layers.Dense(50, activation='relu', kernel_initializer='he_normal', input_shape=(x.shape[1],)))\n",
    "    model.add(Dropout(0.4))\n",
    "    model.add(layers.Dense(10, activation='relu', kernel_initializer='he_normal'))\n",
    "    model.add(Dropout(0.4))\n",
    "    model.add(layers.Dense(1, activation='sigmoid'))\n",
    "    return model"
   ]
  },
  {
   "cell_type": "code",
   "execution_count": 95,
   "metadata": {},
   "outputs": [],
   "source": [
    "model = model_build2()"
   ]
  },
  {
   "cell_type": "code",
   "execution_count": 96,
   "metadata": {},
   "outputs": [
    {
     "name": "stdout",
     "output_type": "stream",
     "text": [
      "Model: \"sequential_4\"\n",
      "_________________________________________________________________\n",
      "Layer (type)                 Output Shape              Param #   \n",
      "=================================================================\n",
      "dense_7 (Dense)              (None, 50)                1750      \n",
      "_________________________________________________________________\n",
      "dropout_4 (Dropout)          (None, 50)                0         \n",
      "_________________________________________________________________\n",
      "dense_8 (Dense)              (None, 10)                510       \n",
      "_________________________________________________________________\n",
      "dropout_5 (Dropout)          (None, 10)                0         \n",
      "_________________________________________________________________\n",
      "dense_9 (Dense)              (None, 1)                 11        \n",
      "=================================================================\n",
      "Total params: 2,271\n",
      "Trainable params: 2,271\n",
      "Non-trainable params: 0\n",
      "_________________________________________________________________\n"
     ]
    }
   ],
   "source": [
    "model.summary()"
   ]
  },
  {
   "cell_type": "code",
   "execution_count": 97,
   "metadata": {},
   "outputs": [],
   "source": [
    "model.compile(optimizer='adam', loss='binary_crossentropy', metrics=['accuracy'])"
   ]
  },
  {
   "cell_type": "code",
   "execution_count": 98,
   "metadata": {},
   "outputs": [
    {
     "name": "stdout",
     "output_type": "stream",
     "text": [
      "Train on 196 samples, validate on 49 samples\n",
      "Epoch 1/100\n",
      "196/196 [==============================] - 1s 6ms/sample - loss: 0.7267 - accuracy: 0.6173 - val_loss: 0.5835 - val_accuracy: 0.7551\n",
      "Epoch 2/100\n",
      "196/196 [==============================] - 0s 546us/sample - loss: 0.6803 - accuracy: 0.6684 - val_loss: 0.5538 - val_accuracy: 0.7551\n",
      "Epoch 3/100\n",
      "196/196 [==============================] - 0s 511us/sample - loss: 0.6670 - accuracy: 0.6837 - val_loss: 0.5269 - val_accuracy: 0.7755\n",
      "Epoch 4/100\n",
      "196/196 [==============================] - 0s 470us/sample - loss: 0.6252 - accuracy: 0.6633 - val_loss: 0.4981 - val_accuracy: 0.7755\n",
      "Epoch 5/100\n",
      "196/196 [==============================] - 0s 552us/sample - loss: 0.5751 - accuracy: 0.6888 - val_loss: 0.4705 - val_accuracy: 0.7755\n",
      "Epoch 6/100\n",
      "196/196 [==============================] - 0s 475us/sample - loss: 0.5621 - accuracy: 0.7245 - val_loss: 0.4547 - val_accuracy: 0.8163\n",
      "Epoch 7/100\n",
      "196/196 [==============================] - 0s 480us/sample - loss: 0.5480 - accuracy: 0.7194 - val_loss: 0.4330 - val_accuracy: 0.8163\n",
      "Epoch 8/100\n",
      "196/196 [==============================] - 0s 526us/sample - loss: 0.5486 - accuracy: 0.7398 - val_loss: 0.4228 - val_accuracy: 0.8163\n",
      "Epoch 9/100\n",
      "196/196 [==============================] - 0s 557us/sample - loss: 0.5106 - accuracy: 0.7857 - val_loss: 0.4182 - val_accuracy: 0.8571\n",
      "Epoch 10/100\n",
      "196/196 [==============================] - 0s 546us/sample - loss: 0.4979 - accuracy: 0.7551 - val_loss: 0.4021 - val_accuracy: 0.8776\n",
      "Epoch 11/100\n",
      "196/196 [==============================] - 0s 490us/sample - loss: 0.4749 - accuracy: 0.7653 - val_loss: 0.3874 - val_accuracy: 0.8980\n",
      "Epoch 12/100\n",
      "196/196 [==============================] - 0s 460us/sample - loss: 0.4478 - accuracy: 0.8112 - val_loss: 0.3670 - val_accuracy: 0.9184\n",
      "Epoch 13/100\n",
      "196/196 [==============================] - 0s 475us/sample - loss: 0.4559 - accuracy: 0.8418 - val_loss: 0.3530 - val_accuracy: 0.8980\n",
      "Epoch 14/100\n",
      "196/196 [==============================] - 0s 490us/sample - loss: 0.4467 - accuracy: 0.8010 - val_loss: 0.3510 - val_accuracy: 0.9184\n",
      "Epoch 15/100\n",
      "196/196 [==============================] - 0s 521us/sample - loss: 0.3934 - accuracy: 0.8265 - val_loss: 0.3357 - val_accuracy: 0.8980\n",
      "Epoch 16/100\n",
      "196/196 [==============================] - 0s 490us/sample - loss: 0.3905 - accuracy: 0.8418 - val_loss: 0.3208 - val_accuracy: 0.8980\n",
      "Epoch 17/100\n",
      "196/196 [==============================] - 0s 475us/sample - loss: 0.3790 - accuracy: 0.8929 - val_loss: 0.3020 - val_accuracy: 0.8980\n",
      "Epoch 18/100\n",
      "196/196 [==============================] - 0s 480us/sample - loss: 0.3645 - accuracy: 0.8622 - val_loss: 0.2910 - val_accuracy: 0.8980\n",
      "Epoch 19/100\n",
      "196/196 [==============================] - 0s 485us/sample - loss: 0.3576 - accuracy: 0.8673 - val_loss: 0.2866 - val_accuracy: 0.8980\n",
      "Epoch 20/100\n",
      "196/196 [==============================] - 0s 582us/sample - loss: 0.3388 - accuracy: 0.8878 - val_loss: 0.2827 - val_accuracy: 0.9184\n",
      "Epoch 21/100\n",
      "196/196 [==============================] - 0s 562us/sample - loss: 0.3624 - accuracy: 0.8469 - val_loss: 0.2721 - val_accuracy: 0.9184\n",
      "Epoch 22/100\n",
      "196/196 [==============================] - 0s 490us/sample - loss: 0.3392 - accuracy: 0.8571 - val_loss: 0.2619 - val_accuracy: 0.9184\n",
      "Epoch 23/100\n",
      "196/196 [==============================] - 0s 485us/sample - loss: 0.2765 - accuracy: 0.8929 - val_loss: 0.2570 - val_accuracy: 0.9184\n",
      "Epoch 24/100\n",
      "196/196 [==============================] - 0s 511us/sample - loss: 0.2772 - accuracy: 0.9031 - val_loss: 0.2462 - val_accuracy: 0.9184\n",
      "Epoch 25/100\n",
      "196/196 [==============================] - 0s 546us/sample - loss: 0.2895 - accuracy: 0.8929 - val_loss: 0.2378 - val_accuracy: 0.9184\n",
      "Epoch 26/100\n",
      "196/196 [==============================] - 0s 495us/sample - loss: 0.2777 - accuracy: 0.8980 - val_loss: 0.2336 - val_accuracy: 0.9184\n",
      "Epoch 27/100\n",
      "196/196 [==============================] - 0s 434us/sample - loss: 0.2599 - accuracy: 0.9184 - val_loss: 0.2312 - val_accuracy: 0.9184\n",
      "Epoch 28/100\n",
      "196/196 [==============================] - 0s 470us/sample - loss: 0.2507 - accuracy: 0.9082 - val_loss: 0.2265 - val_accuracy: 0.9184\n",
      "Epoch 29/100\n",
      "196/196 [==============================] - 0s 516us/sample - loss: 0.2429 - accuracy: 0.9184 - val_loss: 0.2199 - val_accuracy: 0.9184\n",
      "Epoch 30/100\n",
      "196/196 [==============================] - 0s 521us/sample - loss: 0.2372 - accuracy: 0.9235 - val_loss: 0.2130 - val_accuracy: 0.9184\n",
      "Epoch 31/100\n",
      "196/196 [==============================] - 0s 567us/sample - loss: 0.2406 - accuracy: 0.9235 - val_loss: 0.2191 - val_accuracy: 0.9184\n",
      "Epoch 32/100\n",
      "196/196 [==============================] - 0s 582us/sample - loss: 0.2049 - accuracy: 0.9490 - val_loss: 0.2128 - val_accuracy: 0.9184\n",
      "Epoch 33/100\n",
      "196/196 [==============================] - 0s 557us/sample - loss: 0.1997 - accuracy: 0.9337 - val_loss: 0.2057 - val_accuracy: 0.9184\n",
      "Epoch 34/100\n",
      "196/196 [==============================] - 0s 516us/sample - loss: 0.2308 - accuracy: 0.9133 - val_loss: 0.2113 - val_accuracy: 0.9184\n",
      "Epoch 35/100\n",
      "196/196 [==============================] - 0s 495us/sample - loss: 0.1977 - accuracy: 0.9337 - val_loss: 0.2048 - val_accuracy: 0.9184\n",
      "Epoch 36/100\n",
      "196/196 [==============================] - 0s 465us/sample - loss: 0.2114 - accuracy: 0.9337 - val_loss: 0.2068 - val_accuracy: 0.9184\n",
      "Epoch 37/100\n",
      "196/196 [==============================] - 0s 531us/sample - loss: 0.2065 - accuracy: 0.9286 - val_loss: 0.2086 - val_accuracy: 0.9184\n",
      "Epoch 38/100\n",
      "196/196 [==============================] - 0s 454us/sample - loss: 0.1997 - accuracy: 0.9439 - val_loss: 0.2021 - val_accuracy: 0.9184\n",
      "Epoch 39/100\n",
      "196/196 [==============================] - 0s 444us/sample - loss: 0.2037 - accuracy: 0.9337 - val_loss: 0.2005 - val_accuracy: 0.9184\n",
      "Epoch 40/100\n",
      "196/196 [==============================] - 0s 424us/sample - loss: 0.1844 - accuracy: 0.9337 - val_loss: 0.1960 - val_accuracy: 0.9184\n",
      "Epoch 41/100\n",
      "196/196 [==============================] - 0s 439us/sample - loss: 0.1898 - accuracy: 0.9337 - val_loss: 0.1877 - val_accuracy: 0.9184\n",
      "Epoch 42/100\n",
      "196/196 [==============================] - 0s 567us/sample - loss: 0.1867 - accuracy: 0.9541 - val_loss: 0.1801 - val_accuracy: 0.9184\n",
      "Epoch 43/100\n",
      "196/196 [==============================] - 0s 500us/sample - loss: 0.1567 - accuracy: 0.9541 - val_loss: 0.1819 - val_accuracy: 0.9184\n",
      "Epoch 44/100\n",
      "196/196 [==============================] - 0s 592us/sample - loss: 0.1546 - accuracy: 0.9490 - val_loss: 0.1757 - val_accuracy: 0.9184\n",
      "Epoch 45/100\n",
      "196/196 [==============================] - 0s 403us/sample - loss: 0.1735 - accuracy: 0.9439 - val_loss: 0.1735 - val_accuracy: 0.9184\n",
      "Epoch 46/100\n",
      "196/196 [==============================] - 0s 521us/sample - loss: 0.1845 - accuracy: 0.9235 - val_loss: 0.1706 - val_accuracy: 0.9184\n",
      "Epoch 47/100\n",
      "196/196 [==============================] - 0s 567us/sample - loss: 0.1721 - accuracy: 0.9694 - val_loss: 0.1781 - val_accuracy: 0.9184\n",
      "Epoch 48/100\n",
      "196/196 [==============================] - 0s 531us/sample - loss: 0.1453 - accuracy: 0.9592 - val_loss: 0.1743 - val_accuracy: 0.9184\n",
      "Epoch 49/100\n",
      "196/196 [==============================] - 0s 419us/sample - loss: 0.1514 - accuracy: 0.9592 - val_loss: 0.1779 - val_accuracy: 0.9184\n",
      "Epoch 50/100\n",
      "196/196 [==============================] - 0s 500us/sample - loss: 0.1310 - accuracy: 0.9592 - val_loss: 0.1737 - val_accuracy: 0.9184\n",
      "Epoch 51/100\n",
      "196/196 [==============================] - 0s 485us/sample - loss: 0.1742 - accuracy: 0.9337 - val_loss: 0.1679 - val_accuracy: 0.9184\n",
      "Epoch 52/100\n",
      "196/196 [==============================] - 0s 516us/sample - loss: 0.1380 - accuracy: 0.9592 - val_loss: 0.1659 - val_accuracy: 0.9184\n",
      "Epoch 53/100\n",
      "196/196 [==============================] - 0s 572us/sample - loss: 0.1577 - accuracy: 0.9643 - val_loss: 0.1658 - val_accuracy: 0.9184\n",
      "Epoch 54/100\n",
      "196/196 [==============================] - 0s 577us/sample - loss: 0.1392 - accuracy: 0.9643 - val_loss: 0.1594 - val_accuracy: 0.9184\n",
      "Epoch 55/100\n",
      "196/196 [==============================] - 0s 552us/sample - loss: 0.1339 - accuracy: 0.9592 - val_loss: 0.1593 - val_accuracy: 0.9184\n",
      "Epoch 56/100\n"
     ]
    },
    {
     "name": "stdout",
     "output_type": "stream",
     "text": [
      "196/196 [==============================] - 0s 454us/sample - loss: 0.1270 - accuracy: 0.9745 - val_loss: 0.1632 - val_accuracy: 0.9184\n",
      "Epoch 57/100\n",
      "196/196 [==============================] - 0s 434us/sample - loss: 0.1387 - accuracy: 0.9541 - val_loss: 0.1718 - val_accuracy: 0.9184\n",
      "Epoch 58/100\n",
      "196/196 [==============================] - 0s 398us/sample - loss: 0.1430 - accuracy: 0.9541 - val_loss: 0.1749 - val_accuracy: 0.9184\n",
      "Epoch 59/100\n",
      "196/196 [==============================] - 0s 347us/sample - loss: 0.1291 - accuracy: 0.9541 - val_loss: 0.1800 - val_accuracy: 0.9184\n",
      "Epoch 60/100\n",
      "196/196 [==============================] - 0s 398us/sample - loss: 0.1283 - accuracy: 0.9592 - val_loss: 0.1815 - val_accuracy: 0.9184\n",
      "Epoch 61/100\n",
      "196/196 [==============================] - 0s 465us/sample - loss: 0.1027 - accuracy: 0.9745 - val_loss: 0.1724 - val_accuracy: 0.9184\n",
      "Epoch 62/100\n",
      "196/196 [==============================] - 0s 597us/sample - loss: 0.0954 - accuracy: 0.9694 - val_loss: 0.1659 - val_accuracy: 0.9184\n",
      "Epoch 63/100\n",
      "196/196 [==============================] - 0s 618us/sample - loss: 0.0918 - accuracy: 0.9694 - val_loss: 0.1690 - val_accuracy: 0.9184\n",
      "Epoch 64/100\n",
      "196/196 [==============================] - 0s 649us/sample - loss: 0.0705 - accuracy: 0.9898 - val_loss: 0.1736 - val_accuracy: 0.9184\n",
      "Epoch 65/100\n",
      "196/196 [==============================] - 0s 475us/sample - loss: 0.1063 - accuracy: 0.9745 - val_loss: 0.1679 - val_accuracy: 0.9184\n",
      "Epoch 66/100\n",
      "196/196 [==============================] - 0s 511us/sample - loss: 0.0839 - accuracy: 0.9898 - val_loss: 0.1743 - val_accuracy: 0.9388\n",
      "Epoch 67/100\n",
      "196/196 [==============================] - 0s 403us/sample - loss: 0.1051 - accuracy: 0.9745 - val_loss: 0.1816 - val_accuracy: 0.9388\n",
      "Epoch 68/100\n",
      "196/196 [==============================] - 0s 409us/sample - loss: 0.1094 - accuracy: 0.9694 - val_loss: 0.1671 - val_accuracy: 0.9184\n",
      "Epoch 69/100\n",
      "196/196 [==============================] - 0s 409us/sample - loss: 0.1478 - accuracy: 0.9643 - val_loss: 0.1661 - val_accuracy: 0.9184\n",
      "Epoch 70/100\n",
      "196/196 [==============================] - 0s 567us/sample - loss: 0.1070 - accuracy: 0.9643 - val_loss: 0.1625 - val_accuracy: 0.9388\n",
      "Epoch 71/100\n",
      "196/196 [==============================] - 0s 552us/sample - loss: 0.1156 - accuracy: 0.9643 - val_loss: 0.1711 - val_accuracy: 0.9388\n",
      "Epoch 72/100\n",
      "196/196 [==============================] - 0s 546us/sample - loss: 0.0859 - accuracy: 0.9847 - val_loss: 0.1767 - val_accuracy: 0.9388\n",
      "Epoch 73/100\n",
      "196/196 [==============================] - 0s 485us/sample - loss: 0.0887 - accuracy: 0.9745 - val_loss: 0.1706 - val_accuracy: 0.9388\n",
      "Epoch 74/100\n",
      "196/196 [==============================] - 0s 480us/sample - loss: 0.0896 - accuracy: 0.9796 - val_loss: 0.1688 - val_accuracy: 0.9184\n",
      "Epoch 75/100\n",
      "196/196 [==============================] - 0s 562us/sample - loss: 0.0998 - accuracy: 0.9643 - val_loss: 0.1658 - val_accuracy: 0.9388\n",
      "Epoch 76/100\n",
      "196/196 [==============================] - 0s 562us/sample - loss: 0.0975 - accuracy: 0.9592 - val_loss: 0.1545 - val_accuracy: 0.9388\n",
      "Epoch 77/100\n",
      "196/196 [==============================] - 0s 536us/sample - loss: 0.0829 - accuracy: 0.9745 - val_loss: 0.1560 - val_accuracy: 0.9388\n",
      "Epoch 78/100\n",
      "196/196 [==============================] - 0s 475us/sample - loss: 0.0807 - accuracy: 0.9745 - val_loss: 0.1658 - val_accuracy: 0.9388\n",
      "Epoch 79/100\n",
      "196/196 [==============================] - 0s 567us/sample - loss: 0.0766 - accuracy: 0.9745 - val_loss: 0.1665 - val_accuracy: 0.9592\n",
      "Epoch 80/100\n",
      "196/196 [==============================] - 0s 567us/sample - loss: 0.0779 - accuracy: 0.9745 - val_loss: 0.1808 - val_accuracy: 0.9184\n",
      "Epoch 81/100\n",
      "196/196 [==============================] - 0s 434us/sample - loss: 0.0706 - accuracy: 0.9796 - val_loss: 0.1746 - val_accuracy: 0.9388\n",
      "Epoch 82/100\n",
      "196/196 [==============================] - 0s 444us/sample - loss: 0.0862 - accuracy: 0.9643 - val_loss: 0.1647 - val_accuracy: 0.9388\n",
      "Epoch 83/100\n",
      "196/196 [==============================] - 0s 597us/sample - loss: 0.0435 - accuracy: 0.9949 - val_loss: 0.1699 - val_accuracy: 0.9388\n",
      "Epoch 84/100\n",
      "196/196 [==============================] - 0s 506us/sample - loss: 0.1084 - accuracy: 0.9592 - val_loss: 0.1651 - val_accuracy: 0.9388\n",
      "Epoch 85/100\n",
      "196/196 [==============================] - 0s 506us/sample - loss: 0.0810 - accuracy: 0.9745 - val_loss: 0.1728 - val_accuracy: 0.9388\n",
      "Epoch 86/100\n",
      "196/196 [==============================] - 0s 628us/sample - loss: 0.0841 - accuracy: 0.9796 - val_loss: 0.1656 - val_accuracy: 0.9388\n",
      "Epoch 87/100\n",
      "196/196 [==============================] - 0s 643us/sample - loss: 0.0677 - accuracy: 0.9847 - val_loss: 0.1597 - val_accuracy: 0.9388\n",
      "Epoch 88/100\n",
      "196/196 [==============================] - 0s 577us/sample - loss: 0.0541 - accuracy: 0.9847 - val_loss: 0.1592 - val_accuracy: 0.9592\n",
      "Epoch 89/100\n",
      "196/196 [==============================] - 0s 521us/sample - loss: 0.0930 - accuracy: 0.9745 - val_loss: 0.1647 - val_accuracy: 0.9388\n",
      "Epoch 90/100\n",
      "196/196 [==============================] - 0s 475us/sample - loss: 0.0624 - accuracy: 0.9898 - val_loss: 0.1632 - val_accuracy: 0.9388\n",
      "Epoch 91/100\n",
      "196/196 [==============================] - 0s 490us/sample - loss: 0.0570 - accuracy: 0.9898 - val_loss: 0.1586 - val_accuracy: 0.9388\n",
      "Epoch 92/100\n",
      "196/196 [==============================] - 0s 516us/sample - loss: 0.0556 - accuracy: 0.9898 - val_loss: 0.1573 - val_accuracy: 0.9388\n",
      "Epoch 93/100\n",
      "196/196 [==============================] - 0s 506us/sample - loss: 0.0627 - accuracy: 0.9796 - val_loss: 0.1583 - val_accuracy: 0.9388\n",
      "Epoch 94/100\n",
      "196/196 [==============================] - 0s 521us/sample - loss: 0.0668 - accuracy: 0.9796 - val_loss: 0.1634 - val_accuracy: 0.9388\n",
      "Epoch 95/100\n",
      "196/196 [==============================] - 0s 567us/sample - loss: 0.0552 - accuracy: 0.9847 - val_loss: 0.1662 - val_accuracy: 0.9388\n",
      "Epoch 96/100\n",
      "196/196 [==============================] - 0s 592us/sample - loss: 0.0684 - accuracy: 0.9847 - val_loss: 0.1533 - val_accuracy: 0.9592\n",
      "Epoch 97/100\n",
      "196/196 [==============================] - 0s 521us/sample - loss: 0.0412 - accuracy: 0.9949 - val_loss: 0.1632 - val_accuracy: 0.9388\n",
      "Epoch 98/100\n",
      "196/196 [==============================] - 0s 608us/sample - loss: 0.0788 - accuracy: 0.9643 - val_loss: 0.1574 - val_accuracy: 0.9592\n",
      "Epoch 99/100\n",
      "196/196 [==============================] - 0s 444us/sample - loss: 0.0566 - accuracy: 0.9847 - val_loss: 0.1586 - val_accuracy: 0.9592\n",
      "Epoch 100/100\n",
      "196/196 [==============================] - 0s 526us/sample - loss: 0.0672 - accuracy: 0.9745 - val_loss: 0.1562 - val_accuracy: 0.9592\n"
     ]
    },
    {
     "data": {
      "text/plain": [
       "<tensorflow.python.keras.callbacks.History at 0xd3524458d0>"
      ]
     },
     "execution_count": 98,
     "metadata": {},
     "output_type": "execute_result"
    }
   ],
   "source": [
    "model.fit(X_train, Y_train, epochs=100, batch_size=8, verbose=1, validation_data=(X_val, Y_val))"
   ]
  },
  {
   "cell_type": "code",
   "execution_count": 99,
   "metadata": {},
   "outputs": [
    {
     "name": "stdout",
     "output_type": "stream",
     "text": [
      "106/106 [==============================] - 0s 151us/sample - loss: 0.1248 - accuracy: 0.9811\n"
     ]
    },
    {
     "data": {
      "text/plain": [
       "[0.12478926215531691, 0.9811321]"
      ]
     },
     "execution_count": 99,
     "metadata": {},
     "output_type": "execute_result"
    }
   ],
   "source": [
    "model.evaluate(X_test, Y_test)"
   ]
  },
  {
   "cell_type": "code",
   "execution_count": 100,
   "metadata": {},
   "outputs": [
    {
     "data": {
      "text/plain": [
       "array([1, 1, 0, 0, 0, 1, 0, 1, 1, 0, 1, 1, 0, 1, 1, 0, 0, 1, 1, 0, 1, 1,\n",
       "       0, 1, 1, 1, 0, 1, 0, 0, 1, 1, 1, 1, 0, 1, 1, 0, 1, 1, 1, 0, 0, 0,\n",
       "       1, 1, 0, 0, 1, 0, 0, 1, 1, 0, 0, 0, 1, 1, 0, 0, 1, 0, 1, 1, 1, 1,\n",
       "       1, 1, 0, 0, 1, 1, 1, 0, 0, 0, 1, 0, 1, 0, 1, 0, 1, 0, 1, 0, 1, 1,\n",
       "       1, 1, 1, 1, 1, 1, 1, 0, 0, 1, 0, 1, 1, 1, 1, 1, 1, 0])"
      ]
     },
     "execution_count": 100,
     "metadata": {},
     "output_type": "execute_result"
    }
   ],
   "source": [
    "y_hat=model.predict(X_test)\n",
    "y_hat=np.array((y_hat.ravel()).round(), dtype=np.int32)\n",
    "y_hat"
   ]
  },
  {
   "cell_type": "code",
   "execution_count": 102,
   "metadata": {},
   "outputs": [
    {
     "data": {
      "text/plain": [
       "array([1, 1, 0, 0, 0, 1, 0, 1, 1, 0, 1, 1, 0, 1, 1, 0, 0, 1, 1, 0, 1, 1,\n",
       "       0, 1, 1, 1, 0, 1, 0, 0, 1, 1, 1, 1, 0, 1, 1, 0, 1, 1, 1, 0, 0, 0,\n",
       "       1, 1, 0, 0, 1, 0, 0, 1, 1, 0, 0, 0, 1, 1, 0, 0, 1, 0, 1, 1, 1, 1,\n",
       "       1, 1, 0, 0, 1, 1, 1, 0, 0, 0, 1, 0, 1, 0, 1, 0, 1, 0, 1, 0, 1, 1,\n",
       "       1, 1, 1, 1, 1, 1, 1, 0, 0, 1, 0, 1, 1, 1, 1, 1, 1, 0])"
      ]
     },
     "execution_count": 102,
     "metadata": {},
     "output_type": "execute_result"
    }
   ],
   "source": [
    "boolean_value=Y_test=y_hat\n",
    "boolean_value"
   ]
  },
  {
   "cell_type": "code",
   "execution_count": 103,
   "metadata": {},
   "outputs": [
    {
     "data": {
      "text/plain": [
       "97"
      ]
     },
     "execution_count": 103,
     "metadata": {},
     "output_type": "execute_result"
    }
   ],
   "source": [
    "count = np.count_nonzero(bool_array)\n",
    "count"
   ]
  },
  {
   "cell_type": "code",
   "execution_count": 104,
   "metadata": {},
   "outputs": [
    {
     "data": {
      "text/plain": [
       "91.50943396226415"
      ]
     },
     "execution_count": 104,
     "metadata": {},
     "output_type": "execute_result"
    }
   ],
   "source": [
    "d=(97/106)*100\n",
    "d"
   ]
  },
  {
   "cell_type": "code",
   "execution_count": null,
   "metadata": {},
   "outputs": [],
   "source": []
  }
 ],
 "metadata": {
  "kernelspec": {
   "display_name": "Python 3",
   "language": "python",
   "name": "python3"
  },
  "language_info": {
   "codemirror_mode": {
    "name": "ipython",
    "version": 3
   },
   "file_extension": ".py",
   "mimetype": "text/x-python",
   "name": "python",
   "nbconvert_exporter": "python",
   "pygments_lexer": "ipython3",
   "version": "3.6.12"
  }
 },
 "nbformat": 4,
 "nbformat_minor": 4
}
